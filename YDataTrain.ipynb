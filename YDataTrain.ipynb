{
 "cells": [
  {
   "cell_type": "code",
   "execution_count": null,
   "id": "spoken-jewelry",
   "metadata": {},
   "outputs": [],
   "source": [
    "# Check if NVIDIA GPU is enabled\n",
    "!nvidia-smi"
   ]
  },
  {
   "cell_type": "code",
   "execution_count": null,
   "id": "white-queue",
   "metadata": {},
   "outputs": [],
   "source": [
    "from google.colab import drive\n",
    "drive.mount('/content/gdrive')\n",
    "!ln -s /content/gdrive/My\\ Drive/ /mydrive\n",
    "!ls /mydrive"
   ]
  },
  {
   "cell_type": "code",
   "execution_count": null,
   "id": "suitable-founder",
   "metadata": {},
   "outputs": [],
   "source": [
    "!git clone https://github.com/AlexeyAB/darknet"
   ]
  },
  {
   "cell_type": "code",
   "execution_count": null,
   "id": "vietnamese-factory",
   "metadata": {},
   "outputs": [],
   "source": [
    "# change makefile to have GPU and OPENCV enabled\n",
    "%cd darknet\n",
    "!sed -i 's/OPENCV=0/OPENCV=1/' Makefile\n",
    "!sed -i 's/GPU=0/GPU=1/' Makefile\n",
    "!sed -i 's/CUDNN=0/CUDNN=1/' Makefile\n",
    "!sed -i 's/CUDNN_HALF=0/CUDNN_HALF=1/' Makefile\n",
    "!sed -i 's/OPENMP=0/OPENMP=1/' Makefile\n",
    "!make"
   ]
  },
  {
   "cell_type": "code",
   "execution_count": null,
   "id": "closing-journey",
   "metadata": {},
   "outputs": [],
   "source": [
    "# Create folder on google drive so that we can save there the weights\n",
    "!mkdir \"/mydrive/YoloFaceCupBottle\""
   ]
  },
  {
   "cell_type": "code",
   "execution_count": null,
   "id": "apparent-swimming",
   "metadata": {},
   "outputs": [],
   "source": [
    "# Copy my files from Google drive\n",
    "#!cp '/mydrive/YoloFaceCupBottle/yolo-obj.cfg' cfg/yolo-obj.cfg\n",
    "!cp '/mydrive/YoloFaceCupBottle/yolov3.cfg' cfg/yolo-obj.cfg\n",
    "!cp '/mydrive/YoloFaceCupBottle/obj.data' data/obj.data\n",
    "!cp '/mydrive/YoloFaceCupBottle/obj.names' data/obj.names\n",
    "!cp '/mydrive/YoloFaceCupBottle/train.txt' data/train.txt\n",
    "!cp '/mydrive/YoloFaceCupBottle/test.txt' data/test.txt"
   ]
  },
  {
   "cell_type": "code",
   "execution_count": null,
   "id": "accomplished-diversity",
   "metadata": {},
   "outputs": [],
   "source": [
    "#!cp '/mydrive/YoloFaceCupBottle/yolov4.conv.137' yolov4.conv.137\n",
    "!cp '/mydrive/YoloFaceCupBottle/darknet53.conv.74' darknet53.conv.74"
   ]
  },
  {
   "cell_type": "code",
   "execution_count": null,
   "id": "executed-spain",
   "metadata": {},
   "outputs": [],
   "source": [
    "!cp '/mydrive/YoloFaceCupBottle/yolo-obj_last.weights' yolo-obj_last.weights"
   ]
  },
  {
   "cell_type": "code",
   "execution_count": null,
   "id": "acknowledged-template",
   "metadata": {},
   "outputs": [],
   "source": [
    "!mkdir data/train\n",
    "!unzip /mydrive/YoloFaceCupBottle/train.zip -d data/train\n",
    "\n",
    "!mkdir data/test\n",
    "!unzip /mydrive/YoloFaceCupBottle/test.zip -d data/test"
   ]
  },
  {
   "cell_type": "code",
   "execution_count": null,
   "id": "conservative-inside",
   "metadata": {},
   "outputs": [],
   "source": [
    "# Start the training\n",
    "#!./darknet detector train data/obj.data cfg/yolo-obj.cfg yolov4.conv.137 -dont_show\n",
    "!./darknet detector train data/obj.data cfg/yolo-obj.cfg darknet53.conv.74 -dont_show"
   ]
  },
  {
   "cell_type": "code",
   "execution_count": null,
   "id": "conscious-pollution",
   "metadata": {},
   "outputs": [],
   "source": [
    "# Start the training\n",
    "!./darknet detector train data/obj.data cfg/yolo-obj.cfg yolo-obj_last.weights -dont_show"
   ]
  }
 ],
 "metadata": {
  "kernelspec": {
   "display_name": "Python 3",
   "language": "python",
   "name": "python3"
  },
  "language_info": {
   "codemirror_mode": {
    "name": "ipython",
    "version": 3
   },
   "file_extension": ".py",
   "mimetype": "text/x-python",
   "name": "python",
   "nbconvert_exporter": "python",
   "pygments_lexer": "ipython3",
   "version": "3.6.9"
  }
 },
 "nbformat": 4,
 "nbformat_minor": 5
}
