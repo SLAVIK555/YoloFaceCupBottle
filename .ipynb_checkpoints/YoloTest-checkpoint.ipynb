{
 "cells": [
  {
   "cell_type": "code",
   "execution_count": null,
   "id": "boxed-venture",
   "metadata": {},
   "outputs": [],
   "source": [
    "# Check if NVIDIA GPU is enabled\n",
    "!nvidia-smi"
   ]
  },
  {
   "cell_type": "code",
   "execution_count": null,
   "id": "vocational-classic",
   "metadata": {},
   "outputs": [],
   "source": [
    "from google.colab import drive\n",
    "drive.mount('/content/gdrive')\n",
    "!ln -s /content/gdrive/My\\ Drive/ /mydrive\n",
    "!ls /mydrive"
   ]
  },
  {
   "cell_type": "code",
   "execution_count": null,
   "id": "first-cheat",
   "metadata": {},
   "outputs": [],
   "source": [
    "# Copy my files from Google drive\n",
    "!cp '/mydrive/TYData/yolo-obj.cfg' yolo-obj.cfg\n",
    "!cp '/mydrive/TYData/yolo-obj_last.weights' yolo-obj_last.weights\n",
    "\n",
    "#Copy test video\n",
    "#!cp '/mydrive/TYData/outpy_10fps.avi' outpy_10fps.avi\n",
    "#!cp '/mydrive/TYData/outpy_30fps.avi' outpy_30fps.avi\n",
    "!cp '/mydrive/TYData/tomato_only_outpy_10fps.avi' tomato_only_outpy_10fps.avi"
   ]
  },
  {
   "cell_type": "code",
   "execution_count": null,
   "id": "lined-bubble",
   "metadata": {},
   "outputs": [],
   "source": [
    "import cv2\n",
    "import numpu as np"
   ]
  },
  {
   "cell_type": "code",
   "execution_count": null,
   "id": "forced-jacob",
   "metadata": {},
   "outputs": [],
   "source": [
    "#params\n",
    "weights = \"yolo-obj_last.weights\"\n",
    "#weights = \"yolo-obj_final.weights\"\n",
    "cfg = \"yolo-obj.cfg\"\n",
    "im_size = 416\n",
    "conff = 0.7\n",
    "video = \"tomato_only_outpy_10fps.avi\""
   ]
  },
  {
   "cell_type": "code",
   "execution_count": null,
   "id": "fatal-hollywood",
   "metadata": {},
   "outputs": [],
   "source": [
    "#Load YOLO\n",
    "net = cv2.dnn.readNet(weights, cfg)\n",
    "classes = [\"Black Tomato\", \"Green Tomato\", \"Red Tomato\", \"Yellow Tomato\"]\n",
    "\n",
    "layer_names = net.getLayerNames()\n",
    "outputlayers = [layer_names[i[0] - 1] for i in net.getUnconnectedOutLayers()]\n",
    "\n",
    "colors= np.random.uniform(0,255,size=(len(classes),3))"
   ]
  },
  {
   "cell_type": "code",
   "execution_count": null,
   "id": "hollywood-runner",
   "metadata": {},
   "outputs": [],
   "source": [
    "#Loading image\n",
    "cap=cv2.VideoCapture(video) #0 for 1st webcam\n",
    "font = cv2.FONT_HERSHEY_PLAIN\n",
    "starting_time= time.time()\n",
    "frame_id = 0\n",
    "\n",
    "while True:\n",
    "    ret, frame= cap.read() # \n",
    "    frame_id+=1\n",
    "\n",
    "    if !ret:\n",
    "        break\n",
    "\n",
    "    height,width,channels = frame.shape\n",
    "    #detecting objects\n",
    "    blob = cv2.dnn.blobFromImage(frame,0.00392,(im_size,im_size),(0,0,0),True,crop=False) #reduce 416 to 320   \n",
    "\n",
    "    net.setInput(blob)\n",
    "    outs = net.forward(outputlayers)\n",
    "    #print(outs[1])\n",
    "\n",
    "    #Showing info on screen/ get confidence score of algorithm in detecting an object in blob\n",
    "    class_ids=[]\n",
    "    confidences=[]\n",
    "    boxes=[]\n",
    "    for out in outs:\n",
    "        for detection in out:\n",
    "            scores = detection[5:]\n",
    "            class_id = np.argmax(scores)\n",
    "            confidence = scores[class_id]\n",
    "            if confidence > conff:\n",
    "                #onject detected\n",
    "                center_x= int(detection[0]*width)\n",
    "                center_y= int(detection[1]*height)\n",
    "                w = int(detection[2]*width)\n",
    "                h = int(detection[3]*height)\n",
    "\n",
    "                #cv2.circle(img,(center_x,center_y),10,(0,255,0),2)\n",
    "                #rectangle co-ordinaters\n",
    "                x=int(center_x - w/2)\n",
    "                y=int(center_y - h/2)\n",
    "                #cv2.rectangle(img,(x,y),(x+w,y+h),(0,255,0),2)\n",
    "\n",
    "                boxes.append([x,y,w,h]) #put all rectangle areas\n",
    "                confidences.append(float(confidence)) #how confidence was that object detected and show that percentage\n",
    "                class_ids.append(class_id) #name of the object tha was detected\n",
    "\n",
    "    indexes = cv2.dnn.NMSBoxes(boxes,confidences,0.4,0.6)\n",
    "\n",
    "    for i in range(len(boxes)):\n",
    "        if i in indexes:\n",
    "            x,y,w,h = boxes[i]\n",
    "            label = str(classes[class_ids[i]])\n",
    "            confidence= confidences[i]\n",
    "            color = colors[class_ids[i]]\n",
    "            cv2.rectangle(frame,(x,y),(x+w,y+h),color,2)\n",
    "            cv2.putText(frame,label+\" \"+str(round(confidence,2)),(x,y+30),font,1,(255,255,255),2)\n",
    "\n",
    "    elapsed_time = time.time() - starting_time\n",
    "    fps=frame_id/elapsed_time\n",
    "    cv2.putText(frame,\"FPS:\"+str(round(fps,2)),(10,50),font,2,(0,0,0),1)\n",
    "    \n",
    "    cv2.imshow(\"Image\",frame)\n",
    "    key = cv2.waitKey(1) #wait 1ms the loop will start again and we will process the next frame\n",
    "    \n",
    "    if key == 27: #esc key stops the process\n",
    "        break;\n",
    "    #cv2.waitKey(0)\n",
    "    \n",
    "cap.release()    \n",
    "cv2.destroyAllWindows()"
   ]
  }
 ],
 "metadata": {
  "kernelspec": {
   "display_name": "Python 3 (ipykernel)",
   "language": "python",
   "name": "python3"
  },
  "language_info": {
   "codemirror_mode": {
    "name": "ipython",
    "version": 3
   },
   "file_extension": ".py",
   "mimetype": "text/x-python",
   "name": "python",
   "nbconvert_exporter": "python",
   "pygments_lexer": "ipython3",
   "version": "3.7.3"
  }
 },
 "nbformat": 4,
 "nbformat_minor": 5
}
